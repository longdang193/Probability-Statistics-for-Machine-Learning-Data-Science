{
 "cells": [
  {
   "cell_type": "markdown",
   "id": "4caafec3",
   "metadata": {},
   "source": [
    "# Loaded dice \n",
    "\n",
    "Welcome to the second assignment in the course Probability and Statistics for Machine Learning and Data Science! In this quiz-like assignment you will test your intuition about the concepts covered in the lectures by taking the example with the dice to the next level. \n",
    "\n",
    "**This assignment can be completed with just pencil and paper, or even your intuition about probability, but in many questions using the skills you're developing as a programmer may help**. "
   ]
  },
  {
   "cell_type": "markdown",
   "id": "3bff9c20",
   "metadata": {},
   "source": [
    "## 1 - Introduction\n",
    "\n",
    "You will be presented with 11 questions regarding a several dice games. Sometimes the dice is loaded, sometimes it is not. You will have clear instructions for each exercise.\n",
    "\n",
    "### 1.1 How to go through the assignment: (1) BY HAND and (2) USING PYTHON\n",
    "\n",
    "In each exercise you there will be a question about throwing some dice that may or may not be loaded. You will have to answer questions about the results of each scenario, such as calculating the expected value of the dice throw or selecting the graph that best represents the distribution of outcomes. \n",
    "\n",
    "In any case, **you will be able to solve the exercise with one of the following methods:**\n",
    "\n",
    "- **By hand:** You may make your calculations by hand, using the theory you have developed in the lectures.\n",
    "- **Using Python:** You may use the empty block of code provided to make computations and simulations, to obtain the result.\n",
    "\n",
    "After each exercise you will save your solution by running a special code cell and adding your answer. The cells contain a single line of code in the format `utils.exercise_1()` which will launch the interface in which you can save your answer. **You will save your responses to each exercise as you go, but you won't submit all your responses for grading until you submit this assignment at the end.**\n",
    "\n",
    "Let's go over an example! Before, let's import the necessary libraries."
   ]
  },
  {
   "cell_type": "markdown",
   "id": "3d256624",
   "metadata": {},
   "source": [
    "## 2 - Importing the libraries"
   ]
  },
  {
   "cell_type": "code",
   "execution_count": 1,
   "id": "da0fcf2f",
   "metadata": {},
   "outputs": [],
   "source": [
    "import numpy as np\n",
    "import pandas as pd\n",
    "import seaborn as sns\n",
    "import matplotlib.pyplot as plt\n",
    "import utils"
   ]
  },
  {
   "cell_type": "markdown",
   "id": "e1637bc9",
   "metadata": {},
   "source": [
    "## 3 - A worked example on how to complete this assignment.\n",
    "\n",
    "Now let's go over one example question, so you understand how to go through the assignment.\n",
    "\n",
    "### 3.1 Example question\n",
    "\n",
    "Question: Given a 6-sided fair dice, you throw it two times and save the result. What is the probability that the sum of your two throws is greater than 5? (Give your result with 1 decimal place).\n",
    "\n",
    "After the question, you will see the following block of code."
   ]
  },
  {
   "cell_type": "code",
   "execution_count": null,
   "id": "c789233e",
   "metadata": {},
   "outputs": [],
   "source": [
    "# You can use this cell for your calculations (not graded)\n"
   ]
  },
  {
   "cell_type": "markdown",
   "id": "02528065",
   "metadata": {},
   "source": [
    "You may use it as you wish to solve the exercise. Or you can just ignore it and use pencil and pen to solve. It is up to you! **You will only save your final answer**. \n",
    "\n",
    "### 3.2 Solving using simulations in Python\n",
    "\n",
    "Let's solve this question in both ways. First, using Python. You may check the ungraded lab Dice Simulations that appears right before this assignment to help you simulate dice throws. Remember that, to get a good approximation, you need to simulate it a lot of times! You will see why this is true in the following weeks, but this is quite intuitive."
   ]
  },
  {
   "cell_type": "code",
   "execution_count": 2,
   "id": "309a3457",
   "metadata": {},
   "outputs": [
    {
     "name": "stdout",
     "output_type": "stream",
     "text": [
      "The probability by this simulation is: 0.719\n"
     ]
    }
   ],
   "source": [
    "# You can use this cell for your calculations (not graded)\n",
    "\n",
    "# This list represents each dice side\n",
    "dice = [1,2,3,4,5,6]\n",
    "\n",
    "# The idea is to randomly choose one element from this list three times and sum them. \n",
    "# Each time we choose, it is as if we had thrown a dice and the side is the chosen number.\n",
    "# This list will store the sum for each iteration. The idea is to repeat this experiment several times.\n",
    "sum_results = []\n",
    "\n",
    "number_iterations = 1000\n",
    "\n",
    "# Setting a random seed just for reproducibility\n",
    "np.random.seed(42)\n",
    "\n",
    "# It will play this game number_iteration times\n",
    "for i in range(number_iterations):\n",
    "    # Throw the first dice\n",
    "    throw_1 = np.random.choice(dice)\n",
    "    # Throw the second dice\n",
    "    throw_2 = np.random.choice(dice)\n",
    "    # Sum the result\n",
    "    sum_throw = throw_1 + throw_2\n",
    "    # Append to the sum_result list\n",
    "    sum_results.append(sum_throw)\n",
    "\n",
    "# After recording all the sums, the actual probability will be very close to the proportion among every sum greater than 10 in the sum_results list.\n",
    "greater_5_count = 0\n",
    "\n",
    "for x in sum_results:\n",
    "    if x > 5:\n",
    "        greater_5_count += 1\n",
    "\n",
    "probability = greater_5_count/len(sum_results)    \n",
    "print(f\"The probability by this simulation is: {probability}\")"
   ]
  },
  {
   "cell_type": "markdown",
   "id": "37524317",
   "metadata": {},
   "source": [
    "So the result you would get, rounding in to decimal place, would be 0.7! Let's solve it \"by hand\".\n",
    "\n",
    "### 3.3 Solving using the theory\n",
    "\n",
    "When throwing two dice, there are $36$ possible outcomes:\n",
    "\n",
    "$$(1,1), (1,2), \\ldots, (6,6)$$\n",
    "\n",
    "You must count how many of them lead to a sum greater than 5. They are:\n",
    "\n",
    "* If the first throw is $1$, there are $2$ possibilities for the second throw: 5 or 6.\n",
    "* If the first throw is $2$, there are $3$ possibilities for the second throw: 4, 5 or 6.\n",
    "* If the first throw is $3$, there are $4$ possibilities for the second throw: 3, 4, 5 or 6.\n",
    "* If the first throw is $4$, there are $5$ possibilities for the second throw: 2, 3, 4, 5 or 6.\n",
    "* If the first throw is $5$, there are $6$ possibilities for the second throw: 1, 2, 3, 4, 5 or 6.\n",
    "* If the first throw is $6$, there are $6$ possibilities for the second throw: 1, 2, 3, 4, 5 or 6.\n",
    "\n",
    "So, in total there are $2 + 3 + 4 + 5 + 6 + 6 = 26$, possibilities that sum greater than 5.\n",
    "\n",
    "The probability is then $\\frac{26}{36} \\approx 0.72$. Rounding it to 1 decimal place, the result is also 0.7!\n"
   ]
  },
  {
   "cell_type": "markdown",
   "id": "29b9f3ed",
   "metadata": {},
   "source": [
    "### 3.4 Saving your answer\n",
    "\n",
    "Once you get your answer in hands, it is time to save it. Run the next code below to see what it will look like. You just add your answer as requested and click on \"Save your answer!\""
   ]
  },
  {
   "cell_type": "code",
   "execution_count": 3,
   "id": "38539358",
   "metadata": {},
   "outputs": [
    {
     "data": {
      "application/vnd.jupyter.widget-view+json": {
       "model_id": "55ccbe0c751b44909a3d255ddeca1c29",
       "version_major": 2,
       "version_minor": 0
      },
      "text/plain": [
       "FloatText(value=0.0, description='Probability:')"
      ]
     },
     "metadata": {},
     "output_type": "display_data"
    },
    {
     "data": {
      "application/vnd.jupyter.widget-view+json": {
       "model_id": "aeb435608e59478a9403d66db4340c67",
       "version_major": 2,
       "version_minor": 0
      },
      "text/plain": [
       "Button(button_style='success', description='Save your answer!', style=ButtonStyle())"
      ]
     },
     "metadata": {},
     "output_type": "display_data"
    },
    {
     "data": {
      "application/vnd.jupyter.widget-view+json": {
       "model_id": "341e442aab924617971e5021bd1e7469",
       "version_major": 2,
       "version_minor": 0
      },
      "text/plain": [
       "Output()"
      ]
     },
     "metadata": {},
     "output_type": "display_data"
    }
   ],
   "source": [
    "utils.exercise_example()"
   ]
  },
  {
   "cell_type": "markdown",
   "id": "73d4776c",
   "metadata": {},
   "source": [
    "And that's it! Once you save one question, you can go to the next one. If you want to change your solution, just run the code again and input the new solution, it will overwrite the previous one. At the end of the assignment, you will be able to check if you have forgotten to save any question. \n",
    "\n",
    "Once you finish the assignment, you may submit it as you usually would. Your most recently save answers to each exercise will then be graded."
   ]
  },
  {
   "cell_type": "markdown",
   "id": "4546a127",
   "metadata": {},
   "source": [
    "## 4 - Some concept clarifications 🎲🎲🎲\n",
    "\n",
    "During this assignment you will be presented with various scenarios that involve dice. Usually dice can have different numbers of sides and can be either fair or loaded.\n",
    "\n",
    "- A fair dice has equal probability of landing on every side.\n",
    "- A loaded dice does not have equal probability of landing on every side. Usually one (or more) sides have a greater probability of showing up than the rest.\n",
    "\n",
    "Alright, that's all your need to know to complete this assignment. Time to start rolling some dice!"
   ]
  },
  {
   "cell_type": "markdown",
   "id": "c8f09f02",
   "metadata": {},
   "source": [
    "## Exercise 1:\n",
    "\n"
   ]
  },
  {
   "cell_type": "markdown",
   "id": "3510c610",
   "metadata": {},
   "source": [
    "Given a 6-sided fair dice (all of the sides have equal probability of showing up), compute the mean and variance for the probability distribution that models said dice. The next figure shows you a visual represenatation of said distribution:\n",
    "\n",
    "<img src=\"./images/fair_dice.png\" style=\"height: 300px;\"/>\n",
    "\n",
    "**Submission considerations:**\n",
    "- Submit your answers as floating point numbers with three digits after the decimal point\n",
    "- Example: To submit the value of 1/4 enter 0.250"
   ]
  },
  {
   "cell_type": "markdown",
   "id": "5ee9b479",
   "metadata": {},
   "source": [
    "Hints: \n",
    "- You can use [np.random.choice](https://numpy.org/doc/stable/reference/random/generated/numpy.random.choice.html) to simulate a fair dice.\n",
    "- You can use [np.mean](https://numpy.org/doc/stable/reference/generated/numpy.mean.html) and [np.var](https://numpy.org/doc/stable/reference/generated/numpy.var.html) to compute the mean and variance of a numpy array."
   ]
  },
  {
   "cell_type": "code",
   "execution_count": 5,
   "id": "df437e8e",
   "metadata": {},
   "outputs": [
    {
     "name": "stdout",
     "output_type": "stream",
     "text": [
      "Mean: 3.508, Variance: 2.906\n"
     ]
    }
   ],
   "source": [
    "# You can use this cell for your calculations (not graded)\n",
    "\n",
    "np.random.seed(0)\n",
    "dice_rolls = np.random.choice([1, 2, 3, 4, 5, 6], size=100_000)\n",
    "mean = np.mean(dice_rolls)\n",
    "variance = np.var(dice_rolls)\n",
    "print(f\"Mean: {mean:.3f}, Variance: {variance:.3f}\")\n"
   ]
  },
  {
   "cell_type": "code",
   "execution_count": 6,
   "id": "db9477e7",
   "metadata": {},
   "outputs": [
    {
     "data": {
      "application/vnd.jupyter.widget-view+json": {
       "model_id": "254d9d8c0a304f4a85f02fa09b441c33",
       "version_major": 2,
       "version_minor": 0
      },
      "text/plain": [
       "FloatText(value=0.0, description='Mean:')"
      ]
     },
     "metadata": {},
     "output_type": "display_data"
    },
    {
     "data": {
      "application/vnd.jupyter.widget-view+json": {
       "model_id": "6db8a24a5e5743f88269e4d6b37475d1",
       "version_major": 2,
       "version_minor": 0
      },
      "text/plain": [
       "FloatText(value=0.0, description='Variance:')"
      ]
     },
     "metadata": {},
     "output_type": "display_data"
    },
    {
     "data": {
      "application/vnd.jupyter.widget-view+json": {
       "model_id": "b9ea35e8db914f9d875463aa4bf6e79e",
       "version_major": 2,
       "version_minor": 0
      },
      "text/plain": [
       "Button(button_style='success', description='Save your answer!', style=ButtonStyle())"
      ]
     },
     "metadata": {},
     "output_type": "display_data"
    },
    {
     "data": {
      "application/vnd.jupyter.widget-view+json": {
       "model_id": "9b441fcc61664d64a7682de7b210f6f4",
       "version_major": 2,
       "version_minor": 0
      },
      "text/plain": [
       "Output()"
      ]
     },
     "metadata": {},
     "output_type": "display_data"
    }
   ],
   "source": [
    "# Run this cell to submit your answer\n",
    "utils.exercise_1()"
   ]
  },
  {
   "cell_type": "markdown",
   "id": "d43dcbbd",
   "metadata": {},
   "source": [
    "## Exercise 2:\n",
    "\n",
    "Now suppose you are throwing the dice (same dice as in the previous exercise) two times and recording the sum of each throw. Which of the following `probability mass functions` will be the one you should get?\n",
    "\n",
    "<table><tr>\n",
    "<td> <img src=\"./images/hist_sum_6_side.png\" style=\"height: 300px;\"/> </td>\n",
    "<td> <img src=\"./images/hist_sum_5_side.png\" style=\"height: 300px;\"/> </td>\n",
    "<td> <img src=\"./images/hist_sum_6_uf.png\" style=\"height: 300px;\"/> </td>\n",
    "</tr></table>\n"
   ]
  },
  {
   "cell_type": "markdown",
   "id": "605c58c0",
   "metadata": {},
   "source": [
    "Hints: \n",
    "- You can use numpy arrays to hold the results of many throws.\n",
    "- You can sum to numpy arrays by using the `+` operator like this: `sum = first_throw + second_throw`\n",
    "- To simulate multiple throws of a dice you can use list comprehension or a for loop"
   ]
  },
  {
   "cell_type": "code",
   "execution_count": 7,
   "id": "e9a8b2ed",
   "metadata": {},
   "outputs": [
    {
     "data": {
      "image/png": "[encoded data removed]",
      "text/plain": [
       "<Figure size 640x480 with 1 Axes>"
      ]
     },
     "metadata": {},
     "output_type": "display_data"
    }
   ],
   "source": [
    "# You can use this cell for your calculations (not graded)\n",
    "np.random.seed(0)\n",
    "\n",
    "num_trials = 1_000_000\n",
    "first_throw = np.random.choice([1, 2, 3, 4, 5, 6], size=num_trials)\n",
    "second_throw = np.random.choice([1, 2, 3, 4, 5, 6], size=num_trials)\n",
    "sums = first_throw + second_throw\n",
    "\n",
    "plt.hist(sums, bins=range(2, 14), align='left', rwidth=0.8, density=True)\n",
    "plt.xticks(range(2, 13, 2))\n",
    "plt.xlabel('Sum of dice')\n",
    "plt.ylabel('Probability')\n",
    "plt.title('Histogram of sum')\n",
    "plt.show()"
   ]
  },
  {
   "cell_type": "code",
   "execution_count": 8,
   "id": "d4d5dcf9",
   "metadata": {},
   "outputs": [
    {
     "data": {
      "application/vnd.jupyter.widget-view+json": {
       "model_id": "8aef7197b49e41f6859ebc05f4c019e4",
       "version_major": 2,
       "version_minor": 0
      },
      "text/plain": [
       "ToggleButtons(description='Your answer:', options=('left', 'center', 'right'), value='left')"
      ]
     },
     "metadata": {},
     "output_type": "display_data"
    },
    {
     "data": {
      "application/vnd.jupyter.widget-view+json": {
       "model_id": "0c4828649f53440da0ca73638e896774",
       "version_major": 2,
       "version_minor": 0
      },
      "text/plain": [
       "Button(button_style='success', description='Save your answer!', style=ButtonStyle())"
      ]
     },
     "metadata": {},
     "output_type": "display_data"
    },
    {
     "data": {
      "application/vnd.jupyter.widget-view+json": {
       "model_id": "65789998924147de8586267a7d25ae2d",
       "version_major": 2,
       "version_minor": 0
      },
      "text/plain": [
       "Output()"
      ]
     },
     "metadata": {},
     "output_type": "display_data"
    }
   ],
   "source": [
    "# Run this cell to submit your answer\n",
    "utils.exercise_2()"
   ]
  },
  {
   "cell_type": "markdown",
   "id": "adfb889c",
   "metadata": {},
   "source": [
    "## Exercise 3:\n",
    "\n",
    "Given a fair 4-sided dice, you throw it two times and record the sum. The figure on the left shows the probabilities of the dice landing on each side and the right figure the histogram of the sum. Fill out the probabilities of each sum (notice that the distribution of the sum is symetrical so you only need to input 4 values in total):\n",
    "\n",
    "<img src=\"./images/4_side_hists.png\" style=\"height: 300px;\"/>\n",
    "\n",
    "**Submission considerations:**\n",
    "- Submit your answers as floating point numbers with three digits after the decimal point\n",
    "- Example: To submit the value of 1/4 enter 0.250"
   ]
  },
  {
   "cell_type": "code",
   "execution_count": 14,
   "id": "342ca685",
   "metadata": {},
   "outputs": [
    {
     "data": {
      "image/png": "[encoded data removed]",
      "text/plain": [
       "<Figure size 640x480 with 1 Axes>"
      ]
     },
     "metadata": {},
     "output_type": "display_data"
    }
   ],
   "source": [
    "import numpy as np\n",
    "import matplotlib.pyplot as plt\n",
    "\n",
    "# Set the random seed for reproducibility\n",
    "np.random.seed(0)\n",
    "\n",
    "# Number of trials (dice rolls)\n",
    "num_trials = 1_000_000\n",
    "\n",
    "# Simulate the first and second dice throws\n",
    "first_throw = np.random.choice([1, 2, 3, 4], size=num_trials)\n",
    "second_throw = np.random.choice([1, 2, 3, 4], size=num_trials)\n",
    "\n",
    "# Calculate the sum of the two dice\n",
    "sums = first_throw + second_throw\n",
    "\n",
    "# Create the histogram and capture the output values\n",
    "n, bins, patches = plt.hist(\n",
    "    sums,\n",
    "    bins=range(2, 10),      # Bins for sums from 2 to 8\n",
    "    align='left',           # Align bars to the left edge\n",
    "    rwidth=0.8,             # Width of the bars\n",
    "    density=True,           # Normalize the histogram\n",
    "    edgecolor='black'       # Add black edges to the bars\n",
    ")\n",
    "\n",
    "# Set the x-ticks to match the possible sums\n",
    "plt.xticks(range(2, 9))\n",
    "\n",
    "# Label the axes and the title\n",
    "plt.xlabel('Sum of dice')\n",
    "plt.ylabel('Probability')\n",
    "plt.title('Histogram of Sum')\n",
    "\n",
    "# Add numerical values above each histogram bar\n",
    "for count, x in zip(n, bins[:-1]):\n",
    "    # Position the text at the center of each bar\n",
    "    plt.text(\n",
    "        x,                   # x-position (center of the bar)\n",
    "        count + 0.001,             # y-position (slightly above the bar)\n",
    "        f'{count:.4f}',            # Text to display (formatted probability)\n",
    "        ha='center',               # Horizontal alignment\n",
    "        va='bottom',               # Vertical alignment\n",
    "        fontsize=9,                # Font size\n",
    "        color='blue'               # Text color\n",
    "    )\n",
    "\n",
    "# Show the plot\n",
    "plt.show()\n"
   ]
  },
  {
   "cell_type": "code",
   "execution_count": 10,
   "id": "e0a24beb",
   "metadata": {},
   "outputs": [
    {
     "data": {
      "application/vnd.jupyter.widget-view+json": {
       "model_id": "ea1ad041dbf14b7fbdc582c58c5af9f5",
       "version_major": 2,
       "version_minor": 0
      },
      "text/plain": [
       "FloatText(value=0.0, description='P for sum=2|8', style=DescriptionStyle(description_width='initial'))"
      ]
     },
     "metadata": {},
     "output_type": "display_data"
    },
    {
     "data": {
      "application/vnd.jupyter.widget-view+json": {
       "model_id": "ea224ed9cc0b4642be5ba299588e4c0a",
       "version_major": 2,
       "version_minor": 0
      },
      "text/plain": [
       "FloatText(value=0.0, description='P for sum=3|7:', style=DescriptionStyle(description_width='initial'))"
      ]
     },
     "metadata": {},
     "output_type": "display_data"
    },
    {
     "data": {
      "application/vnd.jupyter.widget-view+json": {
       "model_id": "5ebdd08e90d54d68805092245554c791",
       "version_major": 2,
       "version_minor": 0
      },
      "text/plain": [
       "FloatText(value=0.0, description='P for sum=4|6:', style=DescriptionStyle(description_width='initial'))"
      ]
     },
     "metadata": {},
     "output_type": "display_data"
    },
    {
     "data": {
      "application/vnd.jupyter.widget-view+json": {
       "model_id": "97581deee2f2443085cdaa8f43b494a1",
       "version_major": 2,
       "version_minor": 0
      },
      "text/plain": [
       "FloatText(value=0.0, description='P for sum=5:', style=DescriptionStyle(description_width='initial'))"
      ]
     },
     "metadata": {},
     "output_type": "display_data"
    },
    {
     "data": {
      "application/vnd.jupyter.widget-view+json": {
       "model_id": "66d1fbb80ac14bc5a4139dfd6728f164",
       "version_major": 2,
       "version_minor": 0
      },
      "text/plain": [
       "Button(button_style='success', description='Save your answer!', style=ButtonStyle())"
      ]
     },
     "metadata": {},
     "output_type": "display_data"
    },
    {
     "data": {
      "application/vnd.jupyter.widget-view+json": {
       "model_id": "8a0df1df62b643319a8e983ec345ef6a",
       "version_major": 2,
       "version_minor": 0
      },
      "text/plain": [
       "Output()"
      ]
     },
     "metadata": {},
     "output_type": "display_data"
    }
   ],
   "source": [
    "# Run this cell to submit your answer\n",
    "utils.exercise_3()"
   ]
  },
  {
   "cell_type": "markdown",
   "id": "108837bd",
   "metadata": {},
   "source": [
    "## Exercise 4:\n",
    "\n",
    "Using the same scenario as in the previous exercise. Compute the mean and variance of the sum of the two throws  and the covariance between the first and the second throw:\n",
    "\n",
    "<img src=\"./images/4_sided_hist_no_prob.png\" style=\"height: 300px;\"/>\n",
    "\n",
    "\n",
    "Hints:\n",
    "- You can use [np.cov](https://numpy.org/doc/stable/reference/generated/numpy.cov.html) to compute the covariance of two numpy arrays (this may not be needed for this particular exercise)."
   ]
  },
  {
   "cell_type": "code",
   "execution_count": 16,
   "id": "f4eadc3c",
   "metadata": {},
   "outputs": [
    {
     "name": "stdout",
     "output_type": "stream",
     "text": [
      "Mean of sum: 5.000\n",
      "Variance of sum: 2.499\n",
      "Covariance between first and second throw: -0.001\n"
     ]
    }
   ],
   "source": [
    "# You can use this cell for your calculations (not graded)\n",
    "np.random.seed(0)\n",
    "num_trials = 1_000_000\n",
    "first_throw = np.random.choice([1, 2, 3, 4], size=num_trials)\n",
    "second_throw = np.random.choice([1, 2, 3, 4], size=num_trials)\n",
    "sums = first_throw + second_throw\n",
    "\n",
    "print(f\"Mean of sum: {np.mean(sums):.3f}\")\n",
    "print(f\"Variance of sum: {np.var(sums):.3f}\")\n",
    "print(f\"Covariance between first and second throw: {np.cov(first_throw, second_throw)[0, 1]:.3f}\")"
   ]
  },
  {
   "cell_type": "code",
   "execution_count": 17,
   "id": "4e662b9b",
   "metadata": {},
   "outputs": [
    {
     "data": {
      "application/vnd.jupyter.widget-view+json": {
       "model_id": "921b2d7e0b684e16822e4c4d5fb184b9",
       "version_major": 2,
       "version_minor": 0
      },
      "text/plain": [
       "FloatText(value=0.0, description='Mean:')"
      ]
     },
     "metadata": {},
     "output_type": "display_data"
    },
    {
     "data": {
      "application/vnd.jupyter.widget-view+json": {
       "model_id": "62086b3753f8473987dec3112868361e",
       "version_major": 2,
       "version_minor": 0
      },
      "text/plain": [
       "FloatText(value=0.0, description='Variance:')"
      ]
     },
     "metadata": {},
     "output_type": "display_data"
    },
    {
     "data": {
      "application/vnd.jupyter.widget-view+json": {
       "model_id": "991ba5ed31514b60b26b537a9e0e89e8",
       "version_major": 2,
       "version_minor": 0
      },
      "text/plain": [
       "FloatText(value=0.0, description='Covariance:')"
      ]
     },
     "metadata": {},
     "output_type": "display_data"
    },
    {
     "data": {
      "application/vnd.jupyter.widget-view+json": {
       "model_id": "ff172afdc60642a98e06cc7edbbd2348",
       "version_major": 2,
       "version_minor": 0
      },
      "text/plain": [
       "Button(button_style='success', description='Save your answer!', style=ButtonStyle())"
      ]
     },
     "metadata": {},
     "output_type": "display_data"
    },
    {
     "data": {
      "application/vnd.jupyter.widget-view+json": {
       "model_id": "167980386abb4519bb402564f60adf88",
       "version_major": 2,
       "version_minor": 0
      },
      "text/plain": [
       "Output()"
      ]
     },
     "metadata": {},
     "output_type": "display_data"
    }
   ],
   "source": [
    "# Run this cell to submit your answer\n",
    "utils.exercise_4()"
   ]
  },
  {
   "cell_type": "markdown",
   "id": "714e099b",
   "metadata": {},
   "source": [
    "## Exercise 5:\n",
    "\n",
    "\n",
    "Now suppose you are have a loaded 4-sided dice (it is loaded so that it lands twice as often on side 2 compared to the other sides): \n",
    "\n",
    "\n",
    "<img src=\"./images/4_side_uf.png\" style=\"height: 300px;\"/>\n",
    "\n",
    "You are throwing it two times and recording the sum of each throw. Which of the following `probability mass functions` will be the one you should get?\n",
    "\n",
    "<table><tr>\n",
    "<td> <img src=\"./images/hist_sum_4_4l.png\" style=\"height: 300px;\"/> </td>\n",
    "<td> <img src=\"./images/hist_sum_4_3l.png\" style=\"height: 300px;\"/> </td>\n",
    "<td> <img src=\"./images/hist_sum_4_uf.png\" style=\"height: 300px;\"/> </td>\n",
    "</tr></table>"
   ]
  },
  {
   "cell_type": "markdown",
   "id": "ecb27c1b",
   "metadata": {},
   "source": [
    "Hints: \n",
    "- You can use the `p` parameter of [np.random.choice](https://numpy.org/doc/stable/reference/random/generated/numpy.random.choice.html) to simulate a loaded dice."
   ]
  },
  {
   "cell_type": "code",
   "execution_count": 18,
   "id": "a35573ec",
   "metadata": {},
   "outputs": [
    {
     "data": {
      "image/png": "[encoded data removed]",
      "text/plain": [
       "<Figure size 640x480 with 1 Axes>"
      ]
     },
     "metadata": {},
     "output_type": "display_data"
    }
   ],
   "source": [
    "# You can use this cell for your calculations (not graded)\n",
    "np.random.seed(0)\n",
    "num_trials = 1000000\n",
    "first_throw = np.random.choice([1, 2, 3, 4], p=[1/5, 2/5, 1/5, 1/5], size=num_trials)\n",
    "second_throw = np.random.choice([1, 2, 3, 4], p=[1/5, 2/5, 1/5, 1/5], size=num_trials)\n",
    "sums = first_throw + second_throw\n",
    "\n",
    "plt.hist(sums, bins=range(2, 10), align='left', rwidth=0.8, density=True)\n",
    "plt.xticks(range(2, 9))\n",
    "plt.xlabel('Sum of dice')\n",
    "plt.ylabel('Probability')\n",
    "plt.title('Histogram of sum')\n",
    "plt.show()"
   ]
  },
  {
   "cell_type": "code",
   "execution_count": 19,
   "id": "3104e647",
   "metadata": {},
   "outputs": [
    {
     "data": {
      "application/vnd.jupyter.widget-view+json": {
       "model_id": "8a847a1bd51a49f8b6a60089ddf180ce",
       "version_major": 2,
       "version_minor": 0
      },
      "text/plain": [
       "ToggleButtons(description='Your answer:', options=('left', 'center', 'right'), value='left')"
      ]
     },
     "metadata": {},
     "output_type": "display_data"
    },
    {
     "data": {
      "application/vnd.jupyter.widget-view+json": {
       "model_id": "5d8c79affed24f19b183e00fdb8c8007",
       "version_major": 2,
       "version_minor": 0
      },
      "text/plain": [
       "Button(button_style='success', description='Save your answer!', style=ButtonStyle())"
      ]
     },
     "metadata": {},
     "output_type": "display_data"
    },
    {
     "data": {
      "application/vnd.jupyter.widget-view+json": {
       "model_id": "e9496dc327bd4f7f8f58b01fdb6c318d",
       "version_major": 2,
       "version_minor": 0
      },
      "text/plain": [
       "Output()"
      ]
     },
     "metadata": {},
     "output_type": "display_data"
    }
   ],
   "source": [
    "# Run this cell to submit your answer\n",
    "utils.exercise_5()"
   ]
  },
  {
   "cell_type": "markdown",
   "id": "0d0f3429",
   "metadata": {},
   "source": [
    "## Exercise 6:\n",
    "\n",
    "You have a 6-sided dice that is loaded so that it lands twice as often on side 3 compared to the other sides:\n",
    "\n",
    "<img src=\"./images/loaded_6_side.png\" style=\"height: 300px;\"/>\n",
    "\n",
    "You record the sum of throwing it twice. What is the highest value (of the sum) that will yield a cumulative probability lower or equal to 0.5?\n",
    "\n",
    "<img src=\"./images/loaded_6_cdf.png\" style=\"height: 300px;\"/>\n",
    "\n",
    "Hints:\n",
    "- The probability of side 3 is equal to $\\frac{2}{7}$"
   ]
  },
  {
   "cell_type": "code",
   "execution_count": 21,
   "id": "10feaaa8",
   "metadata": {},
   "outputs": [
    {
     "name": "stdout",
     "output_type": "stream",
     "text": [
      "The highest value (of the sum) that will yield a cumulative probability lower or equal to 0.5 is 6\n"
     ]
    }
   ],
   "source": [
    "import numpy as np\n",
    "\n",
    "# Set the random seed for reproducibility\n",
    "np.random.seed(0)\n",
    "\n",
    "# Define the number of trials (number of times the dice are rolled)\n",
    "num_trials = 1_000_000\n",
    "\n",
    "# Define the sides of the dice (a standard 6-sided die)\n",
    "dice = [1, 2, 3, 4, 5, 6]\n",
    "\n",
    "# Define the probabilities for each side of the die\n",
    "# The die is loaded: side 3 has a probability of 2/7, others have 1/7\n",
    "probs = [1/7, 1/7, 2/7, 1/7, 1/7, 1/7]\n",
    "\n",
    "# Simulate the first dice throw using the specified probabilities\n",
    "# np.random.choice selects random values from 'dice' according to 'probs'\n",
    "first_throw = np.random.choice(dice, p=probs, size=num_trials)\n",
    "\n",
    "# Simulate the second dice throw using the same probabilities\n",
    "second_throw = np.random.choice(dice, p=probs, size=num_trials)\n",
    "\n",
    "# Calculate the sum of the two dice for each trial\n",
    "sums = first_throw + second_throw\n",
    "\n",
    "# Calculate the frequency of each possible sum\n",
    "# np.unique returns the sorted unique values and their counts\n",
    "sum_values, counts = np.unique(sums, return_counts=True)\n",
    "\n",
    "# Calculate the probability mass function (PMF)\n",
    "pmf = counts / num_trials\n",
    "\n",
    "# Calculate the cumulative distribution function (CDF)\n",
    "cdf = np.cumsum(pmf)\n",
    "\n",
    "# Find the index where the cumulative probability exceeds 0.5\n",
    "# np.searchsorted finds the insertion point where 0.5 should be inserted to maintain order\n",
    "threshold_index = np.searchsorted(cdf, 0.5)\n",
    "\n",
    "# Determine the highest sum where cumulative probability is less than or equal to 0.5\n",
    "highest_sum = sum_values[threshold_index - 1]\n",
    "\n",
    "print(\"The highest value (of the sum) that will yield a cumulative probability lower or equal to 0.5 is\", highest_sum)"
   ]
  },
  {
   "cell_type": "code",
   "execution_count": 22,
   "id": "963e5763",
   "metadata": {},
   "outputs": [
    {
     "data": {
      "application/vnd.jupyter.widget-view+json": {
       "model_id": "5ca27e79ea134ab9b5bb5671e570e338",
       "version_major": 2,
       "version_minor": 0
      },
      "text/plain": [
       "IntSlider(value=2, continuous_update=False, description='Sum:', max=12, min=2)"
      ]
     },
     "metadata": {},
     "output_type": "display_data"
    },
    {
     "data": {
      "application/vnd.jupyter.widget-view+json": {
       "model_id": "275175e895384428bf7b72ea0dc4187a",
       "version_major": 2,
       "version_minor": 0
      },
      "text/plain": [
       "Button(button_style='success', description='Save your answer!', style=ButtonStyle())"
      ]
     },
     "metadata": {},
     "output_type": "display_data"
    },
    {
     "data": {
      "application/vnd.jupyter.widget-view+json": {
       "model_id": "4f115bf022d14562aa382fc691cb6d2e",
       "version_major": 2,
       "version_minor": 0
      },
      "text/plain": [
       "Output()"
      ]
     },
     "metadata": {},
     "output_type": "display_data"
    }
   ],
   "source": [
    "# Run this cell to submit your answer\n",
    "utils.exercise_6()"
   ]
  },
  {
   "cell_type": "markdown",
   "id": "f6684426",
   "metadata": {},
   "source": [
    "## Exercise 7:\n",
    "\n",
    "Given a 6-sided fair dice you try a new game. You only throw the dice a second time if the result of the first throw is **lower** or equal to 3. Which of the following `probability mass functions` will be the one you should get given this new constraint?\n",
    "\n",
    "<table><tr>\n",
    "<td> <img src=\"./images/6_sided_cond_green.png\" style=\"height: 250px;\"/> </td>\n",
    "<td> <img src=\"./images/6_sided_cond_blue.png\" style=\"height: 250px;\"/> </td>\n",
    "<td> <img src=\"./images/6_sided_cond_red.png\" style=\"height: 250px;\"/> </td>\n",
    "<td> <img src=\"./images/6_sided_cond_brown.png\" style=\"height: 250px;\"/> </td>\n",
    "\n",
    "</tr></table>\n",
    "\n",
    "Hints:\n",
    "- You can simulate the second throws as a numpy array and then make the values that met a certain criteria equal to 0 by using [np.where](https://numpy.org/doc/stable/reference/generated/numpy.where.html)"
   ]
  },
  {
   "cell_type": "code",
   "execution_count": 23,
   "id": "9e64d178",
   "metadata": {},
   "outputs": [
    {
     "data": {
      "image/png": "[encoded data removed]",
      "text/plain": [
       "<Figure size 640x480 with 1 Axes>"
      ]
     },
     "metadata": {},
     "output_type": "display_data"
    }
   ],
   "source": [
    "# You can use this cell for your calculations (not graded)\n",
    "np.random.seed(0)\n",
    "num_trials = 1_000_000\n",
    "first_throw = np.random.choice([1, 2, 3, 4, 5, 6], size=num_trials)\n",
    "second_throw = np.random.choice([1, 2, 3, 4, 5, 6], size=num_trials)\n",
    "\n",
    "second_throw = np.where(first_throw <= 3, second_throw, 0)\n",
    "final_outcomes = first_throw + second_throw\n",
    "\n",
    "plt.hist(final_outcomes, bins=range(2, 11), align='left', rwidth=0.8, density=True)\n",
    "plt.xticks(range(2, 10))\n",
    "plt.xlabel('Sum of dice')\n",
    "plt.ylabel('Probability')\n",
    "plt.title('Histogram of sum')\n",
    "plt.show()"
   ]
  },
  {
   "cell_type": "code",
   "execution_count": 24,
   "id": "82a4db40",
   "metadata": {},
   "outputs": [
    {
     "data": {
      "application/vnd.jupyter.widget-view+json": {
       "model_id": "a501712f51ac48f5bfae303429f8c626",
       "version_major": 2,
       "version_minor": 0
      },
      "text/plain": [
       "ToggleButtons(description='Your answer:', options=('left-most', 'left-center', 'right-center', 'right-most'), …"
      ]
     },
     "metadata": {},
     "output_type": "display_data"
    },
    {
     "data": {
      "application/vnd.jupyter.widget-view+json": {
       "model_id": "481f4dc21f294014bf5f20e7c0ccff9b",
       "version_major": 2,
       "version_minor": 0
      },
      "text/plain": [
       "Button(button_style='success', description='Save your answer!', style=ButtonStyle())"
      ]
     },
     "metadata": {},
     "output_type": "display_data"
    },
    {
     "data": {
      "application/vnd.jupyter.widget-view+json": {
       "model_id": "2f221556fe8a4aa1b45ef8ce86a5360f",
       "version_major": 2,
       "version_minor": 0
      },
      "text/plain": [
       "Output()"
      ]
     },
     "metadata": {},
     "output_type": "display_data"
    }
   ],
   "source": [
    "# Run this cell to submit your answer\n",
    "utils.exercise_7()"
   ]
  },
  {
   "cell_type": "markdown",
   "id": "ba973eaf",
   "metadata": {},
   "source": [
    "## Exercise 8:\n",
    "\n",
    "Given the same scenario as in the previous exercise but with the twist that you only throw the dice a second time if the result of the first throw is **greater** or equal to 3. Which of the following `probability mass functions` will be the one you should get given this new constraint?\n",
    "\n",
    "<table><tr>\n",
    "<td> <img src=\"./images/6_sided_cond_green2.png\" style=\"height: 250px;\"/> </td>\n",
    "<td> <img src=\"./images/6_sided_cond_blue2.png\" style=\"height: 250px;\"/> </td>\n",
    "<td> <img src=\"./images/6_sided_cond_red2.png\" style=\"height: 250px;\"/> </td>\n",
    "<td> <img src=\"./images/6_sided_cond_brown2.png\" style=\"height: 250px;\"/> </td>\n",
    "\n",
    "</tr></table>\n"
   ]
  },
  {
   "cell_type": "code",
   "execution_count": 25,
   "id": "4d25300f",
   "metadata": {},
   "outputs": [
    {
     "data": {
      "image/png": "[encoded data removed]",
      "text/plain": [
       "<Figure size 640x480 with 1 Axes>"
      ]
     },
     "metadata": {},
     "output_type": "display_data"
    }
   ],
   "source": [
    "# You can use this cell for your calculations (not graded)\n",
    "np.random.seed(0)\n",
    "num_trials = 1000000\n",
    "first_throw = np.random.choice([1, 2, 3, 4, 5, 6], size=num_trials)\n",
    "second_throw = np.random.choice([1, 2, 3, 4, 5, 6], size=num_trials)\n",
    "\n",
    "second_throw = np.where(first_throw >= 3, second_throw, 0)\n",
    "final_outcomes = first_throw + second_throw\n",
    "\n",
    "plt.hist(final_outcomes, bins=range(1, 14), align='left', rwidth=0.8, density=True)\n",
    "plt.xticks(range(2, 13))\n",
    "plt.xlabel('Sum of dice')\n",
    "plt.ylabel('Probability')\n",
    "plt.title('Histogram of sum')\n",
    "plt.show()"
   ]
  },
  {
   "cell_type": "code",
   "execution_count": 26,
   "id": "33bb9fd2",
   "metadata": {},
   "outputs": [
    {
     "data": {
      "application/vnd.jupyter.widget-view+json": {
       "model_id": "c03575e9b3e442c5b8d6798f80dd9b6c",
       "version_major": 2,
       "version_minor": 0
      },
      "text/plain": [
       "ToggleButtons(description='Your answer:', options=('left-most', 'left-center', 'right-center', 'right-most'), …"
      ]
     },
     "metadata": {},
     "output_type": "display_data"
    },
    {
     "data": {
      "application/vnd.jupyter.widget-view+json": {
       "model_id": "c15e27b4c81b48e99b79a4bdc46343ac",
       "version_major": 2,
       "version_minor": 0
      },
      "text/plain": [
       "Button(button_style='success', description='Save your answer!', style=ButtonStyle())"
      ]
     },
     "metadata": {},
     "output_type": "display_data"
    },
    {
     "data": {
      "application/vnd.jupyter.widget-view+json": {
       "model_id": "0b6f810adbee402c8f4b4aefec258ee7",
       "version_major": 2,
       "version_minor": 0
      },
      "text/plain": [
       "Output()"
      ]
     },
     "metadata": {},
     "output_type": "display_data"
    }
   ],
   "source": [
    "# Run this cell to submit your answer\n",
    "utils.exercise_8()"
   ]
  },
  {
   "cell_type": "markdown",
   "id": "017e9b22",
   "metadata": {},
   "source": [
    "## Exercise 9:\n",
    "\n",
    "Given a n-sided fair dice. You throw it twice and record the sum. How does increasing the number of sides `n` of the dice impact the mean and variance of the sum and the covariance of the joint distribution?"
   ]
  },
  {
   "cell_type": "code",
   "execution_count": 27,
   "id": "645a9b74",
   "metadata": {},
   "outputs": [
    {
     "name": "stdout",
     "output_type": "stream",
     "text": [
      "For a 2-sided dice:\n",
      "Mean of the sum: 3.002\n",
      "Variance of the sum: 0.497\n",
      "Covariance of the joint distribution: -0.002\n",
      "\n",
      "For a 3-sided dice:\n",
      "Mean of the sum: 4.000\n",
      "Variance of the sum: 1.331\n",
      "Covariance of the joint distribution: -0.001\n",
      "\n",
      "For a 4-sided dice:\n",
      "Mean of the sum: 5.003\n",
      "Variance of the sum: 2.510\n",
      "Covariance of the joint distribution: 0.003\n",
      "\n",
      "For a 5-sided dice:\n",
      "Mean of the sum: 6.014\n",
      "Variance of the sum: 4.003\n",
      "Covariance of the joint distribution: 0.002\n",
      "\n",
      "For a 6-sided dice:\n",
      "Mean of the sum: 7.012\n",
      "Variance of the sum: 5.820\n",
      "Covariance of the joint distribution: -0.001\n",
      "\n",
      "For a 7-sided dice:\n",
      "Mean of the sum: 8.011\n",
      "Variance of the sum: 7.934\n",
      "Covariance of the joint distribution: -0.024\n",
      "\n",
      "For a 8-sided dice:\n",
      "Mean of the sum: 9.007\n",
      "Variance of the sum: 10.492\n",
      "Covariance of the joint distribution: 0.012\n",
      "\n",
      "For a 9-sided dice:\n",
      "Mean of the sum: 10.010\n",
      "Variance of the sum: 13.225\n",
      "Covariance of the joint distribution: -0.040\n",
      "\n",
      "For a 10-sided dice:\n",
      "Mean of the sum: 11.020\n",
      "Variance of the sum: 16.428\n",
      "Covariance of the joint distribution: -0.018\n",
      "\n"
     ]
    }
   ],
   "source": [
    "# You can use this cell for your calculations (not graded)\n",
    "def simulate_dice_throws(n, num_trials=100000):\n",
    "    np.random.seed(0)\n",
    "    first_throw = np.random.choice(np.arange(1, n+1), size=num_trials)\n",
    "    second_throw = np.random.choice(np.arange(1, n+1), size=num_trials)\n",
    "    sum_throws = first_throw + second_throw\n",
    "\n",
    "    mean = np.mean(sum_throws)\n",
    "    variance = np.var(sum_throws)\n",
    "    covariance = np.cov(first_throw, second_throw)[0][1]\n",
    "\n",
    "    return mean, variance, covariance\n",
    "\n",
    "for n in range(2, 11):\n",
    "    mean, variance, covariance = simulate_dice_throws(n)\n",
    "    print(f\"For a {n}-sided dice:\")\n",
    "    print(f\"Mean of the sum: {mean:.3f}\")\n",
    "    print(f\"Variance of the sum: {variance:.3f}\")\n",
    "    print(f\"Covariance of the joint distribution: {covariance:.3f}\\n\")"
   ]
  },
  {
   "cell_type": "code",
   "execution_count": 28,
   "id": "907412da",
   "metadata": {},
   "outputs": [
    {
     "name": "stdout",
     "output_type": "stream",
     "text": [
      "As the number of sides in the die increases:\n"
     ]
    },
    {
     "data": {
      "application/vnd.jupyter.widget-view+json": {
       "model_id": "d3f6687210d7442fa18ff4019323a729",
       "version_major": 2,
       "version_minor": 0
      },
      "text/plain": [
       "ToggleButtons(description='The mean of the sum:', options=('stays the same', 'increases', 'decreases'), value=…"
      ]
     },
     "metadata": {},
     "output_type": "display_data"
    },
    {
     "data": {
      "application/vnd.jupyter.widget-view+json": {
       "model_id": "0f8c4609bfa54623b5b137f4d810eee7",
       "version_major": 2,
       "version_minor": 0
      },
      "text/plain": [
       "ToggleButtons(description='The variance of the sum:', options=('stays the same', 'increases', 'decreases'), va…"
      ]
     },
     "metadata": {},
     "output_type": "display_data"
    },
    {
     "data": {
      "application/vnd.jupyter.widget-view+json": {
       "model_id": "cceb1b2146374270861d56ea7fd4f485",
       "version_major": 2,
       "version_minor": 0
      },
      "text/plain": [
       "ToggleButtons(description='The covariance of the joint distribution:', options=('stays the same', 'increases',…"
      ]
     },
     "metadata": {},
     "output_type": "display_data"
    },
    {
     "data": {
      "application/vnd.jupyter.widget-view+json": {
       "model_id": "abea5fc8039543d89233be3667d0a47a",
       "version_major": 2,
       "version_minor": 0
      },
      "text/plain": [
       "Button(button_style='success', description='Save your answer!', style=ButtonStyle())"
      ]
     },
     "metadata": {},
     "output_type": "display_data"
    },
    {
     "data": {
      "application/vnd.jupyter.widget-view+json": {
       "model_id": "055fe5357021455cab19ddebb1fd6479",
       "version_major": 2,
       "version_minor": 0
      },
      "text/plain": [
       "Output()"
      ]
     },
     "metadata": {},
     "output_type": "display_data"
    }
   ],
   "source": [
    "# Run this cell to submit your answer\n",
    "utils.exercise_9()"
   ]
  },
  {
   "cell_type": "markdown",
   "id": "fcf9b3ac",
   "metadata": {},
   "source": [
    "## Exercise 10:\n",
    "\n",
    "Given a 6-sided loaded dice. You throw it twice and record the sum. Which of the following statemets is true?"
   ]
  },
  {
   "cell_type": "code",
   "execution_count": 32,
   "id": "008c5858",
   "metadata": {},
   "outputs": [
    {
     "name": "stdout",
     "output_type": "stream",
     "text": [
      "For a 6-sided die with side 1 loaded:\n",
      "Mean of the sum: 6.288\n",
      "Variance of the sum: 6.531\n",
      "Covariance between first and second throw: -0.002\n",
      "\n",
      "For a 6-sided die with side 2 loaded:\n",
      "Mean of the sum: 6.573\n",
      "Variance of the sum: 5.554\n",
      "Covariance between first and second throw: -0.000\n",
      "\n",
      "For a 6-sided die with side 3 loaded:\n",
      "Mean of the sum: 6.858\n",
      "Variance of the sum: 5.065\n",
      "Covariance between first and second throw: -0.000\n",
      "\n",
      "For a 6-sided die with side 4 loaded:\n",
      "Mean of the sum: 7.143\n",
      "Variance of the sum: 5.064\n",
      "Covariance between first and second throw: -0.001\n",
      "\n",
      "For a 6-sided die with side 5 loaded:\n",
      "Mean of the sum: 7.429\n",
      "Variance of the sum: 5.554\n",
      "Covariance between first and second throw: -0.000\n",
      "\n",
      "For a 6-sided die with side 6 loaded:\n",
      "Mean of the sum: 7.716\n",
      "Variance of the sum: 6.539\n",
      "Covariance between first and second throw: 0.000\n",
      "\n"
     ]
    }
   ],
   "source": [
    "import numpy as np\n",
    "\n",
    "def simulate_loaded_dice(n, loaded_side, num_trials=1_000_000):\n",
    "    # Set the random seed for reproducibility\n",
    "    np.random.seed(0)\n",
    "    \n",
    "    # Define the probability distribution for the loaded die\n",
    "    # The loaded side has a probability of 2/7, others have 1/7\n",
    "    p = [2/7 if i == loaded_side else 1/7 for i in range(1, n+1)]\n",
    "    \n",
    "    # Simulate the first dice throw using the specified probabilities\n",
    "    first_throw = np.random.choice(np.arange(1, n+1), p=p, size=num_trials)\n",
    "    \n",
    "    # Simulate the second dice throw using the same probabilities\n",
    "    second_throw = np.random.choice(np.arange(1, n+1), p=p, size=num_trials)\n",
    "    \n",
    "    # Calculate the sum of the two dice for each trial\n",
    "    sum_throws = first_throw + second_throw\n",
    "    \n",
    "    # Calculate the mean (expected value) of the sum\n",
    "    mean = np.mean(sum_throws)\n",
    "    \n",
    "    # Calculate the variance of the sum\n",
    "    variance = np.var(sum_throws)\n",
    "    \n",
    "    # Calculate the covariance between the first and second throws\n",
    "    # Covariance = E[XY] - E[X]E[Y]\n",
    "    covariance = np.mean(first_throw * second_throw) - np.mean(first_throw) * np.mean(second_throw)\n",
    "    \n",
    "    return mean, variance, covariance\n",
    "\n",
    "# Loop through each possible loaded side (from 1 to 6)\n",
    "for loaded_side in range(1, 7):\n",
    "    # Call the function to simulate the dice throws and calculate statistics\n",
    "    mean, variance, covariance = simulate_loaded_dice(6, loaded_side)\n",
    "    \n",
    "    # Print the results with formatted output\n",
    "    print(f\"For a 6-sided die with side {loaded_side} loaded:\")\n",
    "    print(f\"Mean of the sum: {mean:.3f}\")\n",
    "    print(f\"Variance of the sum: {variance:.3f}\")\n",
    "    print(f\"Covariance between first and second throw: {covariance:.3f}\\n\")\n"
   ]
  },
  {
   "cell_type": "code",
   "execution_count": 29,
   "id": "99373567",
   "metadata": {},
   "outputs": [
    {
     "data": {
      "application/vnd.jupyter.widget-view+json": {
       "model_id": "2e9869db525442268ba3abc83809b832",
       "version_major": 2,
       "version_minor": 0
      },
      "text/plain": [
       "RadioButtons(layout=Layout(width='max-content'), options=('the mean and variance is the same regardless of whi…"
      ]
     },
     "metadata": {},
     "output_type": "display_data"
    },
    {
     "data": {
      "application/vnd.jupyter.widget-view+json": {
       "model_id": "10a49218c15b437ca15580586c2b1a23",
       "version_major": 2,
       "version_minor": 0
      },
      "text/plain": [
       "Button(button_style='success', description='Save your answer!', style=ButtonStyle())"
      ]
     },
     "metadata": {},
     "output_type": "display_data"
    },
    {
     "data": {
      "application/vnd.jupyter.widget-view+json": {
       "model_id": "c09e25ea86f541b0ba634c49af2a0884",
       "version_major": 2,
       "version_minor": 0
      },
      "text/plain": [
       "Output()"
      ]
     },
     "metadata": {},
     "output_type": "display_data"
    }
   ],
   "source": [
    "# Run this cell to submit your answer\n",
    "utils.exercise_10()"
   ]
  },
  {
   "cell_type": "markdown",
   "id": "f8a1a8a3",
   "metadata": {},
   "source": [
    "## Exercise 11:\n",
    "\n",
    "Given a n-sided dice (could be fair or not). You throw it twice and record the sum (there is no dependance between the throws). If you are only given the histogram of the sums can you use it to know which are the probabilities of the dice landing on each side?\n",
    "\n",
    "In other words, if you are provided with only the histogram of the sums like this one:\n",
    "<td> <img src=\"./images/hist_sum_6_side.png\" style=\"height: 300px;\"/> </td>\n",
    "\n",
    "Could you use it to know the probabilities of the dice landing on each side? Which will be equivalent to finding this histogram:\n",
    "<img src=\"./images/fair_dice.png\" style=\"height: 300px;\"/>\n"
   ]
  },
  {
   "cell_type": "code",
   "execution_count": 35,
   "id": "b42149cf",
   "metadata": {},
   "outputs": [
    {
     "name": "stdout",
     "output_type": "stream",
     "text": [
      "Actual probabilities of the die sides:\n",
      "Side 1: 0.1262\n",
      "Side 2: 0.3203\n",
      "Side 3: 0.2466\n",
      "Side 4: 0.2017\n",
      "Side 5: 0.0526\n",
      "Side 6: 0.0526\n"
     ]
    },
    {
     "data": {
      "image/png": "[encoded data removed]",
      "text/plain": [
       "<Figure size 800x400 with 1 Axes>"
      ]
     },
     "metadata": {},
     "output_type": "display_data"
    },
    {
     "name": "stdout",
     "output_type": "stream",
     "text": [
      "\n",
      "Estimated probabilities using Fourier deconvolution:\n",
      "Side 1: 0.2098\n",
      "Side 2: 0.1221\n",
      "Side 3: 0.1850\n",
      "Side 4: 0.2209\n",
      "Side 5: 0.2203\n",
      "Side 6: 0.0419\n",
      "\n",
      "Estimated probabilities using optimization:\n",
      "Side 1: 0.1257\n",
      "Side 2: 0.3204\n",
      "Side 3: 0.2475\n",
      "Side 4: 0.2017\n",
      "Side 5: 0.0513\n",
      "Side 6: 0.0533\n"
     ]
    },
    {
     "data": {
      "image/png": "[encoded data removed]",
      "text/plain": [
       "<Figure size 800x400 with 1 Axes>"
      ]
     },
     "metadata": {},
     "output_type": "display_data"
    }
   ],
   "source": [
    "import numpy as np\n",
    "import matplotlib.pyplot as plt\n",
    "from scipy.optimize import minimize\n",
    "from scipy.fft import fft, ifft\n",
    "\n",
    "# Step 1: Simulate a die with unknown probabilities\n",
    "def simulate_die(n):\n",
    "    # Generate random probabilities for each side\n",
    "    # Ensure they are non-negative and sum to 1\n",
    "    np.random.seed(42)  # For reproducibility\n",
    "    random_probs = np.random.rand(n)\n",
    "    p = random_probs / random_probs.sum()\n",
    "    return p\n",
    "\n",
    "# Step 2: Simulate rolling the die twice and recording the sums\n",
    "def simulate_rolls(p, num_trials=1_000_000):\n",
    "    n = len(p)\n",
    "    sides = np.arange(1, n + 1)\n",
    "    \n",
    "    # Roll the die twice independently\n",
    "    first_roll = np.random.choice(sides, size=num_trials, p=p)\n",
    "    second_roll = np.random.choice(sides, size=num_trials, p=p)\n",
    "    \n",
    "    # Record the sums\n",
    "    sums = first_roll + second_roll\n",
    "    return sums\n",
    "\n",
    "# Step 3: Compute the histogram (probability distribution) of the sums\n",
    "def compute_sum_distribution(sums, n):\n",
    "    # Possible sums range from 2 to 2n\n",
    "    sum_values = np.arange(2, 2 * n + 1)  # Length is (2n - 1)\n",
    "\n",
    "    # Calculate the histogram of sums\n",
    "    bins = np.arange(1.5, 2 * n + 1)  # Adjusted bins to match sum_values\n",
    "    counts, _ = np.histogram(sums, bins=bins)\n",
    "    P_s = counts / counts.sum()  # Normalize to get probabilities\n",
    "    return sum_values, P_s\n",
    "\n",
    "# Step 4: Attempt to recover the original probabilities\n",
    "def recover_probabilities(sum_values, P_s, n):\n",
    "    # Zero-pad P_s to length 2n for FFT\n",
    "    P_s_padded = np.zeros(2 * n - 1)\n",
    "    P_s_padded[:len(P_s)] = P_s  # Adjust indices\n",
    "\n",
    "    # Compute the Fourier transform of the sum distribution\n",
    "    P_s_fft = fft(P_s_padded)\n",
    "\n",
    "    # Take the square root of the Fourier transform\n",
    "    epsilon = 1e-10\n",
    "    p_fft = np.sqrt(P_s_fft + epsilon)\n",
    "\n",
    "    # Compute the inverse Fourier transform to get p_k\n",
    "    p_estimated_complex = ifft(p_fft)\n",
    "\n",
    "    # Keep only the real part and consider first n elements\n",
    "    p_estimated = np.real(p_estimated_complex[:n])\n",
    "\n",
    "    # Ensure probabilities are non-negative and sum to 1\n",
    "    p_estimated = np.maximum(p_estimated, 0)\n",
    "    p_estimated /= p_estimated.sum()\n",
    "\n",
    "    return p_estimated\n",
    "\n",
    "# Alternative approach using optimization\n",
    "def optimize_probabilities(sum_values, P_s, n):\n",
    "    # Define the objective function to minimize the difference between observed and estimated P_s\n",
    "    def objective(p):\n",
    "        # Ensure probabilities are non-negative and sum to 1\n",
    "        p = np.maximum(p, 0)\n",
    "        p /= p.sum()\n",
    "\n",
    "        # Compute the convolution of p with itself\n",
    "        P_s_estimated = np.convolve(p, p)\n",
    "\n",
    "        # Ensure P_s_estimated is the same length as P_s\n",
    "        P_s_estimated = P_s_estimated[:len(P_s)]\n",
    "\n",
    "        # Compute the difference between observed and estimated P_s\n",
    "        diff = P_s - P_s_estimated\n",
    "        return np.sum(diff ** 2)\n",
    "\n",
    "    # Initial guess (uniform distribution)\n",
    "    p0 = np.ones(n) / n\n",
    "\n",
    "    # Constraints: probabilities sum to 1 and are non-negative\n",
    "    constraints = ({\n",
    "        'type': 'eq',\n",
    "        'fun': lambda p: np.sum(p) - 1\n",
    "    })\n",
    "    bounds = [(0, 1) for _ in range(n)]\n",
    "\n",
    "    # Perform optimization\n",
    "    result = minimize(objective, p0, bounds=bounds, constraints=constraints)\n",
    "\n",
    "    # Extract optimized probabilities\n",
    "    p_optimized = result.x\n",
    "    p_optimized = np.maximum(p_optimized, 0)\n",
    "    p_optimized /= p_optimized.sum()\n",
    "\n",
    "    return p_optimized\n",
    "\n",
    "# Main function to run the simulation and recovery\n",
    "def main():\n",
    "    n = 6  # Number of sides on the die\n",
    "    num_trials = 1_000_000  # Number of simulated rolls\n",
    "\n",
    "    # Simulate the die with unknown probabilities\n",
    "    p_actual = simulate_die(n)\n",
    "    print(\"Actual probabilities of the die sides:\")\n",
    "    for i, prob in enumerate(p_actual, 1):\n",
    "        print(f\"Side {i}: {prob:.4f}\")\n",
    "\n",
    "    # Simulate rolling the die twice\n",
    "    sums = simulate_rolls(p_actual, num_trials)\n",
    "\n",
    "    # Compute the histogram of sums\n",
    "    sum_values, P_s = compute_sum_distribution(sums, n)\n",
    "\n",
    "    # Plot the observed sum distribution\n",
    "    plt.figure(figsize=(8, 4))\n",
    "    plt.bar(sum_values, P_s, width=0.6, color='skyblue', edgecolor='black')\n",
    "    plt.xlabel('Sum of Two Dice Rolls')\n",
    "    plt.ylabel('Probability')\n",
    "    plt.title('Observed Probability Distribution of Sums')\n",
    "    plt.xticks(sum_values)\n",
    "    plt.grid(axis='y')\n",
    "    plt.show()\n",
    "\n",
    "    # Attempt to recover the original probabilities using Fourier transforms\n",
    "    p_estimated_fft = recover_probabilities(sum_values, P_s, n)\n",
    "    print(\"\\nEstimated probabilities using Fourier deconvolution:\")\n",
    "    for i, prob in enumerate(p_estimated_fft, 1):\n",
    "        print(f\"Side {i}: {prob:.4f}\")\n",
    "\n",
    "    # Attempt to recover the original probabilities using optimization\n",
    "    p_estimated_opt = optimize_probabilities(sum_values, P_s, n)\n",
    "    print(\"\\nEstimated probabilities using optimization:\")\n",
    "    for i, prob in enumerate(p_estimated_opt, 1):\n",
    "        print(f\"Side {i}: {prob:.4f}\")\n",
    "\n",
    "    # Compare the actual and estimated probabilities\n",
    "    plt.figure(figsize=(8, 4))\n",
    "    indices = np.arange(1, n + 1)\n",
    "    width = 0.25\n",
    "    plt.bar(indices - width, p_actual, width=width, label='Actual', color='green', edgecolor='black')\n",
    "    plt.bar(indices, p_estimated_fft, width=width, label='Estimated (FFT)', color='blue', edgecolor='black')\n",
    "    plt.bar(indices + width, p_estimated_opt, width=width, label='Estimated (Optimization)', color='red', edgecolor='black')\n",
    "    plt.xlabel('Die Side')\n",
    "    plt.ylabel('Probability')\n",
    "    plt.title('Comparison of Actual and Estimated Probabilities')\n",
    "    plt.xticks(indices)\n",
    "    plt.legend()\n",
    "    plt.show()\n",
    "\n",
    "if __name__ == \"__main__\":\n",
    "    main()\n"
   ]
  },
  {
   "cell_type": "code",
   "execution_count": 33,
   "id": "33a2e4d9",
   "metadata": {},
   "outputs": [
    {
     "data": {
      "application/vnd.jupyter.widget-view+json": {
       "model_id": "ce9ada177fce4c7b9a5ecc72b098f25c",
       "version_major": 2,
       "version_minor": 0
      },
      "text/plain": [
       "RadioButtons(layout=Layout(width='max-content'), options=('yes, but only if one of the sides is loaded', 'no, …"
      ]
     },
     "metadata": {},
     "output_type": "display_data"
    },
    {
     "data": {
      "application/vnd.jupyter.widget-view+json": {
       "model_id": "f579c9dd1dde45438f5c6c7c1976875e",
       "version_major": 2,
       "version_minor": 0
      },
      "text/plain": [
       "Button(button_style='success', description='Save your answer!', style=ButtonStyle())"
      ]
     },
     "metadata": {},
     "output_type": "display_data"
    },
    {
     "data": {
      "application/vnd.jupyter.widget-view+json": {
       "model_id": "b1f61037a1f24ed784dc8c28e94a733d",
       "version_major": 2,
       "version_minor": 0
      },
      "text/plain": [
       "Output()"
      ]
     },
     "metadata": {},
     "output_type": "display_data"
    }
   ],
   "source": [
    "# Run this cell to submit your answer\n",
    "utils.exercise_11()"
   ]
  },
  {
   "cell_type": "markdown",
   "id": "1635ca7c",
   "metadata": {},
   "source": [
    "## Before Submitting Your Assignment\n",
    "\n",
    "Run the next cell to check that you have answered all of the exercises"
   ]
  },
  {
   "cell_type": "code",
   "execution_count": 36,
   "id": "c6822278",
   "metadata": {},
   "outputs": [
    {
     "name": "stdout",
     "output_type": "stream",
     "text": [
      "All answers saved, you can submit the assignment for grading!\n"
     ]
    }
   ],
   "source": [
    "utils.check_submissions()"
   ]
  },
  {
   "cell_type": "markdown",
   "id": "5286008f",
   "metadata": {},
   "source": [
    "**Congratulations on finishing this assignment!**\n",
    "\n",
    "During this assignment you tested your knowledge on probability distributions, descriptive statistics and visual interpretation of these concepts. You had the choice to compute everything analytically or create simulations to assist you get the right answer. You probably also realized that some exercises could be answered without any computations just by looking at certain hidden queues that the visualizations revealed.\n",
    "\n",
    "**Keep up the good work!**\n"
   ]
  }
 ],
 "metadata": {
  "kernelspec": {
   "display_name": "Python 3 (ipykernel)",
   "language": "python",
   "name": "python3"
  },
  "language_info": {
   "codemirror_mode": {
    "name": "ipython",
    "version": 3
   },
   "file_extension": ".py",
   "mimetype": "text/x-python",
   "name": "python",
   "nbconvert_exporter": "python",
   "pygments_lexer": "ipython3",
   "version": "3.10.11"
  }
 },
 "nbformat": 4,
 "nbformat_minor": 5
}
